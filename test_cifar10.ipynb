{
 "cells": [
  {
   "cell_type": "code",
   "execution_count": 21,
   "id": "d4b09cfd",
   "metadata": {},
   "outputs": [],
   "source": [
    "import torch\n",
    "import pytorch_lightning as pl\n",
    "from cifar10_datamodule import Cifar10DataModule\n",
    "from regnet import rnn_regulated_block, RegNet"
   ]
  },
  {
   "cell_type": "code",
   "execution_count": 17,
   "id": "e8178019",
   "metadata": {},
   "outputs": [],
   "source": [
    "model = RegNet.load_from_checkpoint('cifar_val_acc_87.ckpt')"
   ]
  },
  {
   "cell_type": "code",
   "execution_count": 23,
   "id": "2323183c",
   "metadata": {},
   "outputs": [
    {
     "name": "stderr",
     "output_type": "stream",
     "text": [
      "GPU available: True, used: True\n",
      "TPU available: False, using: 0 TPU cores\n",
      "IPU available: False, using: 0 IPUs\n"
     ]
    },
    {
     "name": "stdout",
     "output_type": "stream",
     "text": [
      "Files already downloaded and verified\n",
      "Files already downloaded and verified\n"
     ]
    },
    {
     "name": "stderr",
     "output_type": "stream",
     "text": [
      "LOCAL_RANK: 0 - CUDA_VISIBLE_DEVICES: [0]\n"
     ]
    },
    {
     "name": "stdout",
     "output_type": "stream",
     "text": [
      "Testing: 100%|█████████▉| 312/313 [00:15<00:00, 29.31it/s]--------------------------------------------------------------------------------\n",
      "DATALOADER:0 TEST RESULTS\n",
      "{'test_accuracy': 0.8543000221252441}\n",
      "--------------------------------------------------------------------------------\n",
      "Testing: 100%|██████████| 313/313 [00:16<00:00, 19.45it/s]\n"
     ]
    },
    {
     "data": {
      "text/plain": [
       "[{'test_accuracy': 0.8543000221252441}]"
      ]
     },
     "execution_count": 23,
     "metadata": {},
     "output_type": "execute_result"
    }
   ],
   "source": [
    "cifar_data_module = Cifar10DataModule(batch_size=32)\n",
    "trainer = pl.Trainer(gpus= 1)\n",
    "trainer.test(model, cifar_data_module)"
   ]
  },
  {
   "cell_type": "code",
   "execution_count": 26,
   "id": "2c598c76",
   "metadata": {},
   "outputs": [],
   "source": [
    "SAVE_PATH = \"./cifar_val_acc_87.pth\"\n",
    "torch.save(model.state_dict(), SAVE_PATH)"
   ]
  }
 ],
 "metadata": {
  "kernelspec": {
   "display_name": "Python 3 (ipykernel)",
   "language": "python",
   "name": "python3"
  },
  "language_info": {
   "codemirror_mode": {
    "name": "ipython",
    "version": 3
   },
   "file_extension": ".py",
   "mimetype": "text/x-python",
   "name": "python",
   "nbconvert_exporter": "python",
   "pygments_lexer": "ipython3",
   "version": "3.8.12"
  }
 },
 "nbformat": 4,
 "nbformat_minor": 5
}
