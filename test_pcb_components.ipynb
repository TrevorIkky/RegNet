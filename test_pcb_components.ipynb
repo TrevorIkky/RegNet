{
 "cells": [
  {
   "cell_type": "code",
   "execution_count": 1,
   "id": "619c5b23",
   "metadata": {},
   "outputs": [],
   "source": [
    "import torch\n",
    "import torchvision.transforms as T\n",
    "import pytorch_lightning as pl\n",
    "from PIL import Image\n",
    "from components_datamodule import ComponentsDataModule\n",
    "from regnet import rnn_regulated_block, RegNet"
   ]
  },
  {
   "cell_type": "markdown",
   "id": "bde4771c",
   "metadata": {},
   "source": [
    "# Load Model, Freeze & Get Output"
   ]
  },
  {
   "cell_type": "code",
   "execution_count": 2,
   "id": "0c99cb4b",
   "metadata": {},
   "outputs": [
    {
     "name": "stderr",
     "output_type": "stream",
     "text": [
      "/opt/conda/lib/python3.8/site-packages/torch/nn/modules/lazy.py:178: UserWarning: Lazy modules are a new feature under heavy development so changes to the API or functionality can happen at any moment.\n",
      "  warnings.warn('Lazy modules are a new feature under heavy development '\n"
     ]
    }
   ],
   "source": [
    "model = RegNet.load_from_checkpoint('pcb_components_val_acc_90.ckpt')"
   ]
  },
  {
   "cell_type": "code",
   "execution_count": 4,
   "id": "13e4f2c7",
   "metadata": {},
   "outputs": [],
   "source": [
    "transforms = T.Compose([\n",
    "                T.Resize((112, 112)),\n",
    "                T.ToTensor(),\n",
    "                T.Normalize(mean=(0.2979, 0.2789, 0.2408), std=(0.2960, 0.2848, 0.2620))\n",
    "            ])"
   ]
  },
  {
   "cell_type": "code",
   "execution_count": 8,
   "id": "d0ad8ab0",
   "metadata": {},
   "outputs": [],
   "source": [
    "image = Image.open('./diode_1002.png')\n",
    "image = transforms(image)[None, :, :, :]"
   ]
  },
  {
   "cell_type": "code",
   "execution_count": 5,
   "id": "92b2ec9b",
   "metadata": {},
   "outputs": [
    {
     "data": {
      "text/plain": [
       "tensor(5)"
      ]
     },
     "execution_count": 5,
     "metadata": {},
     "output_type": "execute_result"
    }
   ],
   "source": [
    "model.eval()\n",
    "model.freeze()\n",
    "output = model(image)\n",
    "output = torch.softmax(output, dim=-1)\n",
    "torch.argmax(output)"
   ]
  },
  {
   "cell_type": "code",
   "execution_count": 6,
   "id": "49fe3262",
   "metadata": {},
   "outputs": [
    {
     "name": "stdout",
     "output_type": "stream",
     "text": [
      "Model Loaded\n"
     ]
    }
   ],
   "source": [
    "model = RegNet(rnn_regulated_block,\n",
    "                   in_dim=3,\n",
    "                   h_dim=64,\n",
    "                   intermediate_channels=32,\n",
    "                   classes=6,\n",
    "                   cell_type='lstm',\n",
    "                   layers=[1, 1, 3]\n",
    "                  )\n",
    "model.load_state_dict(torch.load('pcb_components_val_acc_90.pth'))\n",
    "model.eval()\n",
    "print('Model Loaded')"
   ]
  },
  {
   "cell_type": "code",
   "execution_count": 9,
   "id": "539d8d9a",
   "metadata": {},
   "outputs": [
    {
     "data": {
      "text/plain": [
       "tensor(0)"
      ]
     },
     "execution_count": 9,
     "metadata": {},
     "output_type": "execute_result"
    }
   ],
   "source": [
    "output = model(image)\n",
    "output = torch.softmax(output, dim=-1)\n",
    "torch.argmax(output)"
   ]
  },
  {
   "cell_type": "markdown",
   "id": "05d68ec3",
   "metadata": {},
   "source": [
    "# Get model test accuracy"
   ]
  },
  {
   "cell_type": "code",
   "execution_count": 67,
   "id": "2fd9b793",
   "metadata": {},
   "outputs": [
    {
     "name": "stderr",
     "output_type": "stream",
     "text": [
      "GPU available: True, used: True\n",
      "TPU available: False, using: 0 TPU cores\n",
      "IPU available: False, using: 0 IPUs\n",
      "LOCAL_RANK: 0 - CUDA_VISIBLE_DEVICES: [0]\n"
     ]
    },
    {
     "name": "stdout",
     "output_type": "stream",
     "text": [
      "{'diodes': 0, 'ICs': 1, 'capacitors': 2, 'transistors': 3, 'inductors': 4, 'resistors': 5}\n",
      "Testing:  99%|█████████▉| 155/156 [00:45<00:00,  3.66it/s]--------------------------------------------------------------------------------\n",
      "DATALOADER:0 TEST RESULTS\n",
      "{'test_accuracy': 0.9204270839691162}\n",
      "--------------------------------------------------------------------------------\n",
      "Testing: 100%|██████████| 156/156 [00:45<00:00,  3.40it/s]\n"
     ]
    },
    {
     "data": {
      "text/plain": [
       "[{'test_accuracy': 0.9204270839691162}]"
      ]
     },
     "execution_count": 67,
     "metadata": {},
     "output_type": "execute_result"
    }
   ],
   "source": [
    "root_path = '/storage/PCB-Components-L1'\n",
    "pcb_components_data_module = ComponentsDataModule(root_path, batch_size=32, transforms=transforms)\n",
    "trainer = pl.Trainer(gpus= 1)\n",
    "trainer.test(model, pcb_components_data_module)"
   ]
  }
 ],
 "metadata": {
  "kernelspec": {
   "display_name": "Python 3 (ipykernel)",
   "language": "python",
   "name": "python3"
  },
  "language_info": {
   "codemirror_mode": {
    "name": "ipython",
    "version": 3
   },
   "file_extension": ".py",
   "mimetype": "text/x-python",
   "name": "python",
   "nbconvert_exporter": "python",
   "pygments_lexer": "ipython3",
   "version": "3.8.12"
  }
 },
 "nbformat": 4,
 "nbformat_minor": 5
}
